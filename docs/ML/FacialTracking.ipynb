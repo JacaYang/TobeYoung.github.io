{
 "cells": [
  {
   "cell_type": "markdown",
   "metadata": {},
   "source": []
  },
  {
   "cell_type": "code",
   "execution_count": null,
   "metadata": {},
   "outputs": [],
   "source": []
  },
  {
   "attachments": {},
   "cell_type": "markdown",
   "metadata": {},
   "source": [
    "## 引用\n",
    "1. https://github.com/TianxingWu/OpenVHead\n",
    "2. https://github.com/openVRlab/Headbox\n",
    "3. https://github.com/yeemachine/kalidokit/tree/main/src/FaceSolver\n",
    "4. https://github.com/keijiro/FaceMeshBarracuda\n",
    "5. https://github.com/Danial-Kord/DigiHuman\n",
    "6. https://blog.csdn.net/DL_wly/article/details/90168883\n",
    "7. https://huggingface.co/docs/timm/models/tf-mobilenet-v3\n",
    "8. https://polywink.com/en/\n",
    "9. https://www.kaggle.com/datasets/arashnic/faces-age-detection-dataset\n",
    "10. https://towardsdatascience.com/real-time-age-gender-and-emotion-prediction-from-webcam-with-keras-and-opencv-bde6220d60a"
   ]
  }
 ],
 "metadata": {
  "kernelspec": {
   "display_name": "Python 3",
   "language": "python",
   "name": "python3"
  },
  "language_info": {
   "name": "python",
   "version": "3.9.13"
  },
  "orig_nbformat": 4
 },
 "nbformat": 4,
 "nbformat_minor": 2
}
