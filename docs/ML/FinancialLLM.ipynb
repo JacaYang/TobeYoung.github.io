{
 "cells": [
  {
   "cell_type": "code",
   "execution_count": null,
   "metadata": {},
   "outputs": [],
   "source": []
  },
  {
   "attachments": {},
   "cell_type": "markdown",
   "metadata": {},
   "source": [
    "1. https://twitter.com/mayowaoshin/status/1640385062708424708?ref_src=twsrc%5Etfw%7Ctwcamp%5Etweetembed%7Ctwterm%5E1640385062708424708%7Ctwgr%5Ec9d32df0c541998fb84c5e1392efa3caf39439b5%7Ctwcon%5Es1_&ref_url=https%3A%2F%2Fdecrypt.co%2F124702%2Fai-artificial-intelligence-chatgpt-gpt4-warren-buffett-document-analysis\n",
    "2. https://github.com/mayooear/gpt4-pdf-chatbot-langchain"
   ]
  }
 ],
 "metadata": {
  "language_info": {
   "name": "python"
  },
  "orig_nbformat": 4
 },
 "nbformat": 4,
 "nbformat_minor": 2
}
